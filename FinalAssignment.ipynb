{
 "cells": [
  {
   "cell_type": "markdown",
   "id": "92ed6e20",
   "metadata": {},
   "source": [
    "Data Science Tools and Ecosystem\n"
   ]
  },
  {
   "cell_type": "markdown",
   "id": "3a179ea4",
   "metadata": {},
   "source": [
    "In this notebook, Data Science Tools and Ecosystem are summarized."
   ]
  },
  {
   "cell_type": "markdown",
   "id": "72f5c8fd",
   "metadata": {},
   "source": [
    "**Objectives:\n",
    "- Python\n",
    "- R\n",
    "- Julia\n",
    "- Scala\n"
   ]
  },
  {
   "cell_type": "markdown",
   "id": "eb1b01b0",
   "metadata": {},
   "source": [
    "Some of the popular languages that Data Scientists use are:\n",
    "1. Scientific Computing Libraries \n",
    "2. Visualisation Libraries\n",
    "3. High-level ML and DL"
   ]
  },
  {
   "cell_type": "markdown",
   "id": "663c749e",
   "metadata": {},
   "source": [
    "| Data Science Tools|\n",
    "------------------------------\n",
    "|RStudio                    |\n",
    "|Jupyter lab                |\n",
    "|Spyder                     |\n"
   ]
  },
  {
   "cell_type": "markdown",
   "id": "888b75fd",
   "metadata": {},
   "source": [
    "### Below are a few examples of evaluating arithmetic expressions in Python\n",
    "\n",
    "a = 10\n",
    "b = 6\n",
    "c = a + b\n",
    "print(c)\n",
    "\n",
    "d = a - b\n",
    "print(d)\n",
    "\n",
    "e = a*b\n",
    "print(e)\n",
    "\n",
    "f = a/b\n",
    "print(f)"
   ]
  },
  {
   "cell_type": "code",
   "execution_count": 1,
   "id": "ee4560f5",
   "metadata": {},
   "outputs": [],
   "source": [
    "# This is a simple arithmetic expression to multiply then add integers\n"
   ]
  },
  {
   "cell_type": "code",
   "execution_count": 2,
   "id": "137e4278",
   "metadata": {},
   "outputs": [
    {
     "name": "stdout",
     "output_type": "stream",
     "text": [
      "17\n"
     ]
    }
   ],
   "source": [
    "print((3*4)+5)"
   ]
  },
  {
   "cell_type": "code",
   "execution_count": 3,
   "id": "8d96b30e",
   "metadata": {},
   "outputs": [],
   "source": [
    "# this will convert 200 minutes to hours by dividing by 60"
   ]
  },
  {
   "cell_type": "code",
   "execution_count": 4,
   "id": "1d810e4a",
   "metadata": {},
   "outputs": [
    {
     "name": "stdout",
     "output_type": "stream",
     "text": [
      "200 minutes converts to  3.3333333333333335  hours\n"
     ]
    }
   ],
   "source": [
    "print('200 minutes converts to ', 200/60, ' hours')"
   ]
  },
  {
   "cell_type": "markdown",
   "id": "7aae1cd5",
   "metadata": {},
   "source": [
    "## Author:\n",
    "Deon"
   ]
  },
  {
   "cell_type": "code",
   "execution_count": null,
   "id": "0bfff42e",
   "metadata": {},
   "outputs": [],
   "source": []
  }
 ],
 "metadata": {
  "kernelspec": {
   "display_name": "Python 3 (ipykernel)",
   "language": "python",
   "name": "python3"
  },
  "language_info": {
   "codemirror_mode": {
    "name": "ipython",
    "version": 3
   },
   "file_extension": ".py",
   "mimetype": "text/x-python",
   "name": "python",
   "nbconvert_exporter": "python",
   "pygments_lexer": "ipython3",
   "version": "3.9.12"
  }
 },
 "nbformat": 4,
 "nbformat_minor": 5
}
